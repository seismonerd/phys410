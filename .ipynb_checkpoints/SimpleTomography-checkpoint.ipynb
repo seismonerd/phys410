{
 "cells": [
  {
   "cell_type": "markdown",
   "metadata": {},
   "source": [
    "# A Simple Tomography Calculation"
   ]
  },
  {
   "cell_type": "markdown",
   "metadata": {},
   "source": [
    "### Initialize Tools"
   ]
  },
  {
   "cell_type": "code",
   "execution_count": null,
   "metadata": {},
   "outputs": [],
   "source": [
    "import numpy as np\n",
    "from numpy.linalg import inv\n",
    "import scipy as sp\n",
    "import matplotlib.pyplot as plt"
   ]
  },
  {
   "cell_type": "markdown",
   "metadata": {},
   "source": [
    "### Input the Initial Velocity Model\n",
    "Use the first four lines as is, or come back and change them later for a new example."
   ]
  },
  {
   "cell_type": "code",
   "execution_count": null,
   "metadata": {},
   "outputs": [],
   "source": [
    "v11 = 1000\n",
    "v12 = 1320\n",
    "v21 = 965\n",
    "v22 = 1230\n",
    "initMod = np.array([[v11, v12],[v21, v22]])\n",
    "initModCol = np.array([[v11],[v12],[v21],[v22]])\n",
    "initModSlowCol = 1/initModCol;\n",
    "print(initMod)\n",
    "plt.imshow(initMod)\n",
    "plt.colorbar()\n",
    "plt.title('Initial Model (m/s)')"
   ]
  },
  {
   "cell_type": "markdown",
   "metadata": {},
   "source": [
    "### Now enter your G (\"kernel\") matrix"
   ]
  },
  {
   "cell_type": "code",
   "execution_count": null,
   "metadata": {},
   "outputs": [],
   "source": [
    "G = np.array([[100, 100, 0, 0], [0, 0, 100, 100], [100, 0, 100, 0], [0, 100, 0, 100], [141, 0, 0, 141]])\n",
    "print(G)"
   ]
  },
  {
   "cell_type": "markdown",
   "metadata": {},
   "source": [
    "### Predicted Travel Times for your selected raypaths through the model"
   ]
  },
  {
   "cell_type": "code",
   "execution_count": null,
   "metadata": {},
   "outputs": [],
   "source": [
    "print('Predicted or Theoretical Travel Times of rayppaths through the initial velocity model')\n",
    "print(G @ initModSlowCol)"
   ]
  },
  {
   "cell_type": "markdown",
   "metadata": {},
   "source": [
    "### Make \"simulated\" travel time data\n",
    "The idea here is to \"observe\" travel time data along your selected raypaths.\n",
    "To simultate this, take the above \"predicted/theoretical\" travel times and perturb them by something like +/- 2% as desired. Enter the \"observed\" data vector,d, below\n",
    "Make sure it is a column vector!"
   ]
  },
  {
   "cell_type": "code",
   "execution_count": null,
   "metadata": {},
   "outputs": [],
   "source": [
    "d = np.array([[0.1783],[0.1896],[0.2008],[0.1535],[0.2523]])\n",
    "print(d)"
   ]
  },
  {
   "cell_type": "markdown",
   "metadata": {},
   "source": [
    "### Set up the least squares inverse\n",
    "This will provide a model of *slowness* values"
   ]
  },
  {
   "cell_type": "code",
   "execution_count": null,
   "metadata": {},
   "outputs": [],
   "source": [
    "Gt = G.transpose()\n",
    "m = inv(Gt @ G) @ Gt @ d\n",
    "print(m)\n",
    "#  m = inv(G.transpose @ G) @ G.transpose @ d\n",
    "m22 = np.reshape(m,(2,2))\n",
    "print(m22)\n",
    "v22 = np.reciprocal(m22)\n",
    "print(v22)\n",
    "plt.imshow(v22)\n",
    "plt.colorbar()\n",
    "plt.title('Least Squares Inverse Model (m/s)')"
   ]
  },
  {
   "cell_type": "markdown",
   "metadata": {},
   "source": [
    "# Plot the % velocity perturbation in each model cell"
   ]
  },
  {
   "cell_type": "code",
   "execution_count": null,
   "metadata": {},
   "outputs": [],
   "source": [
    "anomaly = (v22 - initMod)/initMod*100\n",
    "print(anomaly)\n",
    "plt.imshow(anomaly)\n",
    "plt.colorbar()\n",
    "plt.title('Percent Perturbation From Initial Model')"
   ]
  },
  {
   "cell_type": "code",
   "execution_count": null,
   "metadata": {},
   "outputs": [],
   "source": [
    "print('Initial Model (m/s)')\n",
    "print(initMod)\n",
    "print()\n",
    "print('Tomographic Model (m/s)')\n",
    "print(v22)\n",
    "print()\n",
    "print('Initial minus Tomographic (m/s)')\n",
    "print(initMod-v22)"
   ]
  },
  {
   "cell_type": "markdown",
   "metadata": {},
   "source": [
    "### Look at new *predicted* ray path travel times\n",
    "This is just multiplying the *kernel* matrix g by the new tomographic model (but in *slowness* form)"
   ]
  },
  {
   "cell_type": "code",
   "execution_count": null,
   "metadata": {},
   "outputs": [],
   "source": [
    "origtt = G @ initModSlowCol\n",
    "print('Original predicted travel times for the paths (s)')\n",
    "print(origtt); print()\n",
    "\n",
    "newtt = G @ m\n",
    "print('New predicted travel times for the paths (s)')\n",
    "print(newtt); print()\n",
    "\n",
    "print('Original minus New travel times')\n",
    "print(origtt - newtt)\n",
    "\n"
   ]
  }
 ],
 "metadata": {
  "kernelspec": {
   "display_name": "Python 3",
   "language": "python",
   "name": "python3"
  },
  "language_info": {
   "codemirror_mode": {
    "name": "ipython",
    "version": 3
   },
   "file_extension": ".py",
   "mimetype": "text/x-python",
   "name": "python",
   "nbconvert_exporter": "python",
   "pygments_lexer": "ipython3",
   "version": "3.7.1"
  }
 },
 "nbformat": 4,
 "nbformat_minor": 2
}
