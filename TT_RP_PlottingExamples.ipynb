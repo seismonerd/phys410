{
 "cells": [
  {
   "cell_type": "markdown",
   "metadata": {},
   "source": [
    "# Travel Time and Ray Path Plotting Examples\n",
    "These examples are taken from the obspy.org website"
   ]
  },
  {
   "cell_type": "markdown",
   "metadata": {},
   "source": [
    "#### First import obspy itself!"
   ]
  },
  {
   "cell_type": "code",
   "execution_count": null,
   "metadata": {},
   "outputs": [],
   "source": [
    "import obspy"
   ]
  },
  {
   "cell_type": "markdown",
   "metadata": {},
   "source": [
    "### Decide if you want to see figures inline or in separate windows ..."
   ]
  },
  {
   "cell_type": "markdown",
   "metadata": {},
   "source": [
    "Default is \"inline\" (2nd cell below). The \"qt\" option does not work, for example, when running in \"mybinder\" but is a nice option when working locally."
   ]
  },
  {
   "cell_type": "code",
   "execution_count": null,
   "metadata": {},
   "outputs": [],
   "source": [
    "%matplotlib qt   "
   ]
  },
  {
   "cell_type": "code",
   "execution_count": null,
   "metadata": {},
   "outputs": [],
   "source": [
    "%matplotlib inline"
   ]
  },
  {
   "cell_type": "markdown",
   "metadata": {},
   "source": [
    "#### Travel Time Plot"
   ]
  },
  {
   "cell_type": "code",
   "execution_count": null,
   "metadata": {},
   "outputs": [],
   "source": [
    "from obspy.taup import plot_travel_times\n",
    "import matplotlib.pyplot as plt\n",
    "\n",
    "fig, ax = plt.subplots()\n",
    "ax = plot_travel_times(source_depth=10, ax=ax, fig=fig,\n",
    "                       phase_list=['P', 'PP', 'S'], npoints=200)"
   ]
  },
  {
   "cell_type": "markdown",
   "metadata": {},
   "source": [
    "Cartesian raypaths"
   ]
  },
  {
   "cell_type": "code",
   "execution_count": null,
   "metadata": {},
   "outputs": [],
   "source": [
    "from obspy.taup import TauPyModel\n",
    "\n",
    "model = TauPyModel(model='iasp91')\n",
    "arrivals = model.get_ray_paths(500, 140, phase_list=['PP', 'SSS'])\n",
    "arrivals.plot_rays(plot_type='cartesian', phase_list=['PP', 'SSS'],\n",
    "                   plot_all=False, legend=True)"
   ]
  },
  {
   "cell_type": "markdown",
   "metadata": {},
   "source": [
    "Spherical raypaths"
   ]
  },
  {
   "cell_type": "code",
   "execution_count": null,
   "metadata": {},
   "outputs": [],
   "source": [
    "from obspy.taup import TauPyModel\n",
    "\n",
    "model = TauPyModel(model='iasp91')\n",
    "arrivals = model.get_ray_paths(500, 140, phase_list=['Pdiff', 'SS'])\n",
    "arrivals.plot_rays(plot_type='spherical', phase_list=['Pdiff', 'SS'],\n",
    "                   legend=True)"
   ]
  },
  {
   "cell_type": "markdown",
   "metadata": {},
   "source": [
    "Plotting raypaths to multiple distances"
   ]
  },
  {
   "cell_type": "code",
   "execution_count": null,
   "metadata": {},
   "outputs": [],
   "source": [
    "from obspy.taup.tau import plot_ray_paths\n",
    "import matplotlib.pyplot as plt\n",
    "\n",
    "fig, ax = plt.subplots(subplot_kw=dict(polar=True))\n",
    "ax = plot_ray_paths(source_depth=100, ax=ax, fig=fig, phase_list=['P', 'PKP'],\n",
    "                    npoints=25)"
   ]
  },
  {
   "cell_type": "markdown",
   "metadata": {},
   "source": [
    "Here is a really fancy example:"
   ]
  },
  {
   "cell_type": "code",
   "execution_count": null,
   "metadata": {},
   "outputs": [],
   "source": [
    "import numpy as np\n",
    "import matplotlib.pyplot as plt\n",
    "\n",
    "from obspy.taup import TauPyModel\n",
    "\n",
    "\n",
    "PHASES = [\n",
    "    # Phase, distance\n",
    "    ('P', 26),\n",
    "    ('PP', 60),\n",
    "    ('PPP', 94),\n",
    "    ('PPS', 155),\n",
    "    ('p', 3),\n",
    "    ('pPcP', 100),\n",
    "    ('PKIKP', 170),\n",
    "    ('PKJKP', 194),\n",
    "    ('S', 65),\n",
    "    ('SP', 85),\n",
    "    ('SS', 134.5),\n",
    "    ('SSS', 204),\n",
    "    ('p', -10),\n",
    "    ('pP', -37.5),\n",
    "    ('s', -3),\n",
    "    ('sP', -49),\n",
    "    ('ScS', -44),\n",
    "    ('SKS', -82),\n",
    "    ('SKKS', -120),\n",
    "]\n",
    "\n",
    "model = TauPyModel(model='iasp91')\n",
    "\n",
    "fig, ax = plt.subplots(subplot_kw=dict(polar=True))\n",
    "\n",
    "# Plot all pre-determined phases\n",
    "for phase, distance in PHASES:\n",
    "    arrivals = model.get_ray_paths(700, distance, phase_list=[phase])\n",
    "    ax = arrivals.plot_rays(plot_type='spherical',\n",
    "                            legend=False, label_arrivals=True,\n",
    "                            plot_all=True,\n",
    "                            show=False, ax=ax)\n",
    "\n",
    "# Annotate regions\n",
    "ax.text(0, 0, 'Solid\\ninner\\ncore',\n",
    "        horizontalalignment='center', verticalalignment='center',\n",
    "        bbox=dict(facecolor='white', edgecolor='none', alpha=0.7))\n",
    "ocr = (model.model.radius_of_planet -\n",
    "       (model.model.s_mod.v_mod.iocb_depth +\n",
    "        model.model.s_mod.v_mod.cmb_depth) / 2)\n",
    "ax.text(np.deg2rad(180), ocr, 'Fluid outer core',\n",
    "        horizontalalignment='center',\n",
    "        bbox=dict(facecolor='white', edgecolor='none', alpha=0.7))\n",
    "mr = model.model.radius_of_planet - model.model.s_mod.v_mod.cmb_depth / 2\n",
    "ax.text(np.deg2rad(180), mr, 'Solid mantle',\n",
    "        horizontalalignment='center',\n",
    "        bbox=dict(facecolor='white', edgecolor='none', alpha=0.7))\n",
    "\n",
    "plt.show()"
   ]
  },
  {
   "cell_type": "markdown",
   "metadata": {},
   "source": [
    "## Try some modifications of the above yourself in the space below!"
   ]
  },
  {
   "cell_type": "code",
   "execution_count": null,
   "metadata": {},
   "outputs": [],
   "source": [
    "pl1 = ['P','S','PcP','ScP','ScP','PKiKP']\n",
    "arrivals = model.get_ray_paths(112.5, 34, phase_list=pl1)\n",
    "arrivals.plot_rays(plot_type='spherical', phase_list=pl1, legend=True)"
   ]
  },
  {
   "cell_type": "code",
   "execution_count": null,
   "metadata": {},
   "outputs": [],
   "source": [
    "pl2 = ['P','S','ScS','PcS','SKiKS']\n",
    "arrivals = model.get_ray_paths(112.5, 34, phase_list=pl2)\n",
    "arrivals.plot_rays(plot_type='spherical', phase_list=pl2, legend=True)"
   ]
  }
 ],
 "metadata": {
  "kernelspec": {
   "display_name": "Python 3",
   "language": "python",
   "name": "python3"
  },
  "language_info": {
   "codemirror_mode": {
    "name": "ipython",
    "version": 3
   },
   "file_extension": ".py",
   "mimetype": "text/x-python",
   "name": "python",
   "nbconvert_exporter": "python",
   "pygments_lexer": "ipython3",
   "version": "3.7.1"
  }
 },
 "nbformat": 4,
 "nbformat_minor": 2
}
