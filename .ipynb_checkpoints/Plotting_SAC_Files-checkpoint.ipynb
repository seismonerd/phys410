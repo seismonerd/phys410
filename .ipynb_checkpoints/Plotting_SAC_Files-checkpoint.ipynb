{
 "cells": [
  {
   "cell_type": "markdown",
   "metadata": {},
   "source": [
    "# Plotting SAC Files\n"
   ]
  },
  {
   "cell_type": "markdown",
   "metadata": {},
   "source": [
    "#### First import ObsPy (Seismic) Observatory Python"
   ]
  },
  {
   "cell_type": "code",
   "execution_count": null,
   "metadata": {},
   "outputs": [],
   "source": [
    "import obspy"
   ]
  },
  {
   "cell_type": "markdown",
   "metadata": {},
   "source": [
    "### Look for a SAC file in the directory here\n",
    "To load it, examine the commands below:"
   ]
  },
  {
   "cell_type": "code",
   "execution_count": null,
   "metadata": {},
   "outputs": [],
   "source": [
    "from obspy import read\n",
    "st = read('./UNFILT.SAC', debug_headers=True)\n",
    "st"
   ]
  },
  {
   "cell_type": "markdown",
   "metadata": {},
   "source": [
    "### Examine header information\n",
    "SAC files may or may not come with useful header information ..."
   ]
  },
  {
   "cell_type": "code",
   "execution_count": null,
   "metadata": {},
   "outputs": [],
   "source": [
    "print(st[0].stats)"
   ]
  },
  {
   "cell_type": "markdown",
   "metadata": {},
   "source": [
    "### Quick Plot"
   ]
  },
  {
   "cell_type": "code",
   "execution_count": null,
   "metadata": {
    "scrolled": true
   },
   "outputs": [],
   "source": [
    "st.plot()"
   ]
  },
  {
   "cell_type": "markdown",
   "metadata": {},
   "source": [
    "### Filter the seismogram\n",
    "Highpass 0.1 Hz"
   ]
  },
  {
   "cell_type": "code",
   "execution_count": null,
   "metadata": {},
   "outputs": [],
   "source": [
    "import numpy as np\n",
    "import matplotlib.pyplot as plt"
   ]
  },
  {
   "cell_type": "code",
   "execution_count": null,
   "metadata": {
    "scrolled": true
   },
   "outputs": [],
   "source": [
    "tr = st[0]\n",
    "tr_filt = tr.copy()\n",
    "tr_filt.filter('highpass', freq=0.1,corners=2,zerophase=True)\n",
    "\n",
    "# \n",
    "t = np.arange(0, tr.stats.npts / tr.stats.sampling_rate, tr.stats.delta)\n",
    "plt.subplot(211)\n",
    "plt.plot(t, tr.data, 'k')\n",
    "plt.ylabel('Raw Data')\n",
    "plt.subplot(212)\n",
    "plt.plot(t, tr_filt.data, 'k')\n",
    "plt.ylabel('Lowpassed Data')\n",
    "plt.xlabel('Time [s]')\n",
    "plt.suptitle(tr.stats.starttime)\n",
    "plt.show()"
   ]
  },
  {
   "cell_type": "markdown",
   "metadata": {},
   "source": [
    "### Bandpass Filter\n",
    "e.g. [0.5,2] Hz"
   ]
  },
  {
   "cell_type": "code",
   "execution_count": null,
   "metadata": {},
   "outputs": [],
   "source": [
    "tr = st[0]\n",
    "tr_filt_bp= tr.copy()\n",
    "tr_filt_bp.filter('bandpass', freqmin=0.5,freqmax=2,corners=4,zerophase=True)\n",
    "t = np.arange(0, tr.stats.npts / tr.stats.sampling_rate, tr.stats.delta)\n",
    "plt.subplot(211)\n",
    "plt.plot(t, tr.data, 'k')\n",
    "plt.ylabel('Raw Data')\n",
    "plt.subplot(212)\n",
    "plt.plot(t, tr_filt.data, 'k')\n",
    "plt.ylabel('Bandpassed Data')\n",
    "plt.xlabel('Time [s]')\n",
    "plt.suptitle(tr.stats.starttime)\n",
    "plt.show()"
   ]
  }
 ],
 "metadata": {
  "kernelspec": {
   "display_name": "Python 3",
   "language": "python",
   "name": "python3"
  },
  "language_info": {
   "codemirror_mode": {
    "name": "ipython",
    "version": 3
   },
   "file_extension": ".py",
   "mimetype": "text/x-python",
   "name": "python",
   "nbconvert_exporter": "python",
   "pygments_lexer": "ipython3",
   "version": "3.7.1"
  }
 },
 "nbformat": 4,
 "nbformat_minor": 2
}
