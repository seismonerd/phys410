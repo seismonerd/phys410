{
 "cells": [
  {
   "cell_type": "markdown",
   "metadata": {},
   "source": [
    "# A Simple Tomography Calculation"
   ]
  },
  {
   "cell_type": "markdown",
   "metadata": {},
   "source": [
    "## Take care of some background stuff"
   ]
  },
  {
   "cell_type": "code",
   "execution_count": null,
   "metadata": {},
   "outputs": [],
   "source": [
    "import numpy as np\n",
    "from numpy.linalg import inv\n",
    "import scipy as sp\n",
    "#import matplotlib.pyplot as plt \n",
    "import matplotlib.pyplot as plt"
   ]
  },
  {
   "cell_type": "markdown",
   "metadata": {},
   "source": [
    "## Initial Model"
   ]
  },
  {
   "cell_type": "code",
   "execution_count": null,
   "metadata": {},
   "outputs": [],
   "source": [
    "v11 = 1000\n",
    "v12 = 1320\n",
    "v21 = 965\n",
    "v22 = 1230\n",
    "initMod = np.array([[v11, v12],[v21, v22]])\n",
    "print(initMod)\n",
    "plt.imshow(initMod)\n",
    "plt.colorbar()\n",
    "plt.title('Initial Model (m/s)')"
   ]
  },
  {
   "cell_type": "markdown",
   "metadata": {},
   "source": [
    "## Now enter your \"G\" matrix"
   ]
  },
  {
   "cell_type": "code",
   "execution_count": null,
   "metadata": {},
   "outputs": [],
   "source": [
    "G = np.array([[100, 100, 0, 0], [0, 0, 100, 100], [100, 0, 100, 0], [0, 100, 0, 100], [141, 0, 0, 141]])\n",
    "print(G)"
   ]
  },
  {
   "cell_type": "markdown",
   "metadata": {},
   "source": [
    "## Now enter your data vector d  -  make sure it is a column vector"
   ]
  },
  {
   "cell_type": "code",
   "execution_count": null,
   "metadata": {},
   "outputs": [],
   "source": [
    "d = np.array([[0.1783],[0.1896],[0.2008],[0.1535],[0.2523]])\n",
    "print(d)"
   ]
  },
  {
   "cell_type": "markdown",
   "metadata": {},
   "source": [
    "## Set up the least squares inverse\n",
    "This will provide a model of *slowness* values"
   ]
  },
  {
   "cell_type": "code",
   "execution_count": null,
   "metadata": {},
   "outputs": [],
   "source": [
    "Gt = G.transpose()\n",
    "m = inv(Gt @ G) @ Gt @ d\n",
    "print(m)\n",
    "#  m = inv(G.transpose @ G) @ G.transpose @ d"
   ]
  },
  {
   "cell_type": "code",
   "execution_count": null,
   "metadata": {},
   "outputs": [],
   "source": [
    "m22 = np.reshape(m,(2,2))\n",
    "print(m22)"
   ]
  },
  {
   "cell_type": "code",
   "execution_count": null,
   "metadata": {},
   "outputs": [],
   "source": [
    "v22 = np.reciprocal(m22)\n",
    "print(v22)\n",
    "plt.imshow(v22)\n",
    "plt.colorbar()\n",
    "plt.title('Least Squares Inverse Model (m/s)')"
   ]
  },
  {
   "cell_type": "markdown",
   "metadata": {},
   "source": [
    "# Plot the % velocity perturbation in each model cell"
   ]
  },
  {
   "cell_type": "code",
   "execution_count": null,
   "metadata": {},
   "outputs": [],
   "source": [
    "anomaly = (v22 - initMod)/initMod*100\n",
    "print(anomaly)\n",
    "plt.imshow(anomaly)\n",
    "plt.colorbar()\n",
    "plt.title('% Perturbation From Initial Model')"
   ]
  }
 ],
 "metadata": {
  "kernelspec": {
   "display_name": "Python 3",
   "language": "python",
   "name": "python3"
  },
  "language_info": {
   "codemirror_mode": {
    "name": "ipython",
    "version": 3
   },
   "file_extension": ".py",
   "mimetype": "text/x-python",
   "name": "python",
   "nbconvert_exporter": "python",
   "pygments_lexer": "ipython3",
   "version": "3.7.1"
  }
 },
 "nbformat": 4,
 "nbformat_minor": 2
}
