{
 "cells": [
  {
   "cell_type": "markdown",
   "metadata": {},
   "source": [
    "# Travel Time and Ray Path Plotting Examples\n",
    "These examples are taken from the obspy.org website"
   ]
  },
  {
   "cell_type": "code",
   "execution_count": 1,
   "metadata": {},
   "outputs": [
    {
     "ename": "ModuleNotFoundError",
     "evalue": "No module named 'obspy'",
     "output_type": "error",
     "traceback": [
      "\u001b[1;31m---------------------------------------------------------------------------\u001b[0m",
      "\u001b[1;31mModuleNotFoundError\u001b[0m                       Traceback (most recent call last)",
      "\u001b[1;32m<ipython-input-1-619c2523d403>\u001b[0m in \u001b[0;36m<module>\u001b[1;34m()\u001b[0m\n\u001b[1;32m----> 1\u001b[1;33m \u001b[1;32mfrom\u001b[0m \u001b[0mobspy\u001b[0m\u001b[1;33m.\u001b[0m\u001b[0mtaup\u001b[0m \u001b[1;32mimport\u001b[0m \u001b[0mplot_travel_times\u001b[0m\u001b[1;33m\u001b[0m\u001b[0m\n\u001b[0m\u001b[0;32m      2\u001b[0m \u001b[1;32mimport\u001b[0m \u001b[0mmatplotlib\u001b[0m\u001b[1;33m.\u001b[0m\u001b[0mpyplot\u001b[0m \u001b[1;32mas\u001b[0m \u001b[0mplt\u001b[0m\u001b[1;33m\u001b[0m\u001b[0m\n\u001b[0;32m      3\u001b[0m \u001b[1;33m\u001b[0m\u001b[0m\n\u001b[0;32m      4\u001b[0m \u001b[0mfig\u001b[0m\u001b[1;33m,\u001b[0m \u001b[0max\u001b[0m \u001b[1;33m=\u001b[0m \u001b[0mplt\u001b[0m\u001b[1;33m.\u001b[0m\u001b[0msubplots\u001b[0m\u001b[1;33m(\u001b[0m\u001b[1;33m)\u001b[0m\u001b[1;33m\u001b[0m\u001b[0m\n\u001b[0;32m      5\u001b[0m ax = plot_travel_times(source_depth=10, ax=ax, fig=fig,\n",
      "\u001b[1;31mModuleNotFoundError\u001b[0m: No module named 'obspy'"
     ]
    }
   ],
   "source": [
    "from obspy.taup import TauPyModel\n",
    "\n",
    "model = TauPyModel(model='iasp91')\n",
    "arrivals = model.get_ray_paths(500, 140, phase_list=['PP', 'SSS'])\n",
    "arrivals.plot_rays(plot_type='cartesian', phase_list=['PP', 'SSS'],\n",
    "                   plot_all=False, legend=True)from obspy.taup import plot_travel_times\n",
    "import matplotlib.pyplot as plt\n",
    "\n",
    "fig, ax = plt.subplots()\n",
    "ax = plot_travel_times(source_depth=10, ax=ax, fig=fig,\n",
    "                       phase_list=['P', 'PP', 'S'], npoints=200)"
   ]
  },
  {
   "cell_type": "markdown",
   "metadata": {},
   "source": [
    "Cartesian raypaths"
   ]
  },
  {
   "cell_type": "code",
   "execution_count": null,
   "metadata": {},
   "outputs": [],
   "source": [
    "from obspy.taup import TauPyModel\n",
    "\n",
    "model = TauPyModel(model='iasp91')\n",
    "arrivals = model.get_ray_paths(500, 140, phase_list=['PP', 'SSS'])\n",
    "arrivals.plot_rays(plot_type='cartesian', phase_list=['PP', 'SSS'],\n",
    "                   plot_all=False, legend=True)"
   ]
  },
  {
   "cell_type": "markdown",
   "metadata": {},
   "source": [
    "Spherical raypaths"
   ]
  },
  {
   "cell_type": "code",
   "execution_count": null,
   "metadata": {},
   "outputs": [],
   "source": [
    "from obspy.taup import TauPyModel\n",
    "\n",
    "model = TauPyModel(model='iasp91')\n",
    "arrivals = model.get_ray_paths(500, 140, phase_list=['Pdiff', 'SS'])\n",
    "arrivals.plot_rays(plot_type='spherical', phase_list=['Pdiff', 'SS'],\n",
    "                   legend=True)"
   ]
  },
  {
   "cell_type": "markdown",
   "metadata": {},
   "source": [
    "Plotting raypaths to multiple distances"
   ]
  },
  {
   "cell_type": "code",
   "execution_count": null,
   "metadata": {},
   "outputs": [],
   "source": [
    "from obspy.taup.tau import plot_ray_paths\n",
    "import matplotlib.pyplot as plt\n",
    "\n",
    "fig, ax = plt.subplots(subplot_kw=dict(polar=True))\n",
    "ax = plot_ray_paths(source_depth=100, ax=ax, fig=fig, phase_list=['P', 'PKP'],\n",
    "                    npoints=25)"
   ]
  },
  {
   "cell_type": "markdown",
   "metadata": {},
   "source": [
    "Here is a really fancy example:"
   ]
  },
  {
   "cell_type": "code",
   "execution_count": null,
   "metadata": {},
   "outputs": [],
   "source": [
    "import numpy as np\n",
    "import matplotlib.pyplot as plt\n",
    "\n",
    "from obspy.taup import TauPyModel\n",
    "\n",
    "\n",
    "PHASES = [\n",
    "    # Phase, distance\n",
    "    ('P', 26),\n",
    "    ('PP', 60),\n",
    "    ('PPP', 94),\n",
    "    ('PPS', 155),\n",
    "    ('p', 3),\n",
    "    ('pPcP', 100),\n",
    "    ('PKIKP', 170),\n",
    "    ('PKJKP', 194),\n",
    "    ('S', 65),\n",
    "    ('SP', 85),\n",
    "    ('SS', 134.5),\n",
    "    ('SSS', 204),\n",
    "    ('p', -10),\n",
    "    ('pP', -37.5),\n",
    "    ('s', -3),\n",
    "    ('sP', -49),\n",
    "    ('ScS', -44),\n",
    "    ('SKS', -82),\n",
    "    ('SKKS', -120),\n",
    "]\n",
    "\n",
    "model = TauPyModel(model='iasp91')\n",
    "\n",
    "fig, ax = plt.subplots(subplot_kw=dict(polar=True))\n",
    "\n",
    "# Plot all pre-determined phases\n",
    "for phase, distance in PHASES:\n",
    "    arrivals = model.get_ray_paths(700, distance, phase_list=[phase])\n",
    "    ax = arrivals.plot_rays(plot_type='spherical',\n",
    "                            legend=False, label_arrivals=True,\n",
    "                            plot_all=True,\n",
    "                            show=False, ax=ax)\n",
    "\n",
    "# Annotate regions\n",
    "ax.text(0, 0, 'Solid\\ninner\\ncore',\n",
    "        horizontalalignment='center', verticalalignment='center',\n",
    "        bbox=dict(facecolor='white', edgecolor='none', alpha=0.7))\n",
    "ocr = (model.model.radius_of_planet -\n",
    "       (model.model.s_mod.v_mod.iocb_depth +\n",
    "        model.model.s_mod.v_mod.cmb_depth) / 2)\n",
    "ax.text(np.deg2rad(180), ocr, 'Fluid outer core',\n",
    "        horizontalalignment='center',\n",
    "        bbox=dict(facecolor='white', edgecolor='none', alpha=0.7))\n",
    "mr = model.model.radius_of_planet - model.model.s_mod.v_mod.cmb_depth / 2\n",
    "ax.text(np.deg2rad(180), mr, 'Solid mantle',\n",
    "        horizontalalignment='center',\n",
    "        bbox=dict(facecolor='white', edgecolor='none', alpha=0.7))\n",
    "\n",
    "plt.show()"
   ]
  }
 ],
 "metadata": {
  "kernelspec": {
   "display_name": "Python 3",
   "language": "python",
   "name": "python3"
  },
  "language_info": {
   "codemirror_mode": {
    "name": "ipython",
    "version": 3
   },
   "file_extension": ".py",
   "mimetype": "text/x-python",
   "name": "python",
   "nbconvert_exporter": "python",
   "pygments_lexer": "ipython3",
   "version": "3.7.0"
  }
 },
 "nbformat": 4,
 "nbformat_minor": 2
}
